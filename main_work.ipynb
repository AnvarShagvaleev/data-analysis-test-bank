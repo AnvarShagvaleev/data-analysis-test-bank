{
 "cells": [
  {
   "cell_type": "code",
   "execution_count": 1,
   "id": "initial_id",
   "metadata": {
    "ExecuteTime": {
     "end_time": "2024-11-09T22:27:59.018067Z",
     "start_time": "2024-11-09T22:27:58.771217Z"
    },
    "collapsed": true,
    "jupyter": {
     "outputs_hidden": true
    }
   },
   "outputs": [],
   "source": [
    "import duckdb as db\n",
    "import pandas as pd\n",
    "from generate_db_data import generate_benefit_balances, generate_benefit_points, generate_client_data"
   ]
  },
  {
   "cell_type": "markdown",
   "id": "d50685aa4683a4d0",
   "metadata": {},
   "source": [
    "## Предисловие\n",
    "- Хотя в исходных заданиях не требовалось писать код для генерации данных, я решил, что это отличная возможность хотя бы немного продемонстрировать свои навыки программирования. Кроме того, работать гораздо удобнее, когда есть реальные данные под рукой. Вы можете ознакомиться с моим кодом в файле generate_db_data.py;\n",
    "- В некоторых заданиях требовалось написать SQL-запросы. Чтобы использовать синтаксис SQL без необходимости поднимать базу данных, я решил воспользоваться библиотекой duckdb, которая позволяет обращаться к датафреймам с помощью SQL-синтаксиса. Таким образом, у вас есть возможность протестировать мой SQL-скрипт;\n",
    "- Во втором задании я позволил себе расширить количество метрик, которое можно построить на основе данные таблицы `client`"
   ]
  },
  {
   "cell_type": "code",
   "execution_count": 20,
   "id": "232b4267016cef7d",
   "metadata": {
    "ExecuteTime": {
     "end_time": "2024-11-10T11:49:16.839223Z",
     "start_time": "2024-11-10T11:49:16.630357Z"
    }
   },
   "outputs": [],
   "source": [
    "# Параметры генерации для generate_benefit_balances\n",
    "number_of_clients = 100\n",
    "start_account_balance_date, end_account_balance_date=  \"2024-01-01\", \"2024-01-31\"\n",
    "min_balance, max_balance = 0, 1_000_000\n",
    "no_change_prob = 0.3\n",
    "\n",
    "# Параметры генерации для generate_benefit_points\n",
    "max_transactions_per_day = 10\n",
    "probability_of_mismatch = 0.1\n",
    "\n",
    "# Параметры генерации для generate_client_data\n",
    "start_open_date = \"2024-01-01\"\n",
    "end_open_date = \"2024-11-10\"\n",
    "\n",
    "# Генерируем данные\n",
    "benefit_balances = generate_benefit_balances(\n",
    "    number_of_clients,\n",
    "    start_account_balance_date, end_account_balance_date,\n",
    "    min_balance, max_balance,\n",
    "    no_change_prob\n",
    ")\n",
    "benefit_points = generate_benefit_points(\n",
    "    benefit_balances,\n",
    "    max_transactions_per_day,\n",
    "    probability_of_mismatch\n",
    ")\n",
    "\n",
    "client = generate_client_data(\n",
    "    number_of_clients,\n",
    "    start_open_date,\n",
    "    end_open_date\n",
    ")"
   ]
  },
  {
   "cell_type": "markdown",
   "id": "25d51f08b1f4de75",
   "metadata": {},
   "source": [
    "## Задание 1\n",
    "\n",
    "### Исходные данные\n",
    "Даны 3 таблицы со следующими полями:\n",
    "1. `benefit_balances` – данные об остатках баллов клиентов на начало каждого дня:\n",
    "    - `CODE`       –  идентификатор клиента;\n",
    "    - `BAL_DATE`   –  дата;\n",
    "    - `VALUE`      –  остаток баллов клиента code  на дату  `BAL_DATE`;\n",
    "2.\t`benefit_points`   –  данные о всех транзакциях начислений и трат баллов\n",
    "    - `CODE`       - идентификатор клиента\n",
    "    - `DIRECTION`  - принимает два значения: 1 - начисление и 0 - трата\n",
    "    - `CREATED_AT` - дата начисления/траты\n",
    "    - `CUST_SUM`   - сумма начисления/траты\n",
    "3.\t`calendar` – календарь (вспомогательная, можно обойтись без нее)\n",
    "    - `START_DATE` – список всех дат со дня основания Точки\n",
    "### Задача\n",
    "Написать SQL-запрос, который будет проверять, что таблицы `benefit_balances` и `benefit_points` согласованы между собой, т.е. для каждого клиента и всегда выполняется:\n",
    "`Остаток(t) = Остаток(t-1) + Начисления(t-1) - Траты(t-1)`"
   ]
  },
  {
   "cell_type": "code",
   "execution_count": 7,
   "id": "ef339381058e7012",
   "metadata": {
    "ExecuteTime": {
     "end_time": "2024-11-09T22:29:46.032739Z",
     "start_time": "2024-11-09T22:29:46.017626Z"
    }
   },
   "outputs": [],
   "source": [
    "# ЗАДАНИЯ №1\n",
    "mismatches = db.sql(\n",
    "    \"\"\"\n",
    "    with daily_delta as (\n",
    "    select\n",
    "        CODE,\n",
    "        cast(CREATED_AT as date) as AT,\n",
    "        sum(case when DIRECTION = 1 then CUST_SUM when DIRECTION = 0 then -CUST_SUM else 0 end) DELTA\n",
    "    from benefit_points\n",
    "    group by CODE, cast(CREATED_AT as date)\n",
    "    ),\n",
    "    balances as (\n",
    "    select\n",
    "        CODE,\n",
    "        BAL_DATE,\n",
    "        VALUE,\n",
    "        lag(VALUE) over (partition by CODE ORDER BY BAL_DATE) LAG_VALUE,\n",
    "        VALUE - lag(VALUE) over (partition by CODE ORDER BY BAL_DATE) DIFF_BALANCES,\n",
    "    from benefit_balances\n",
    "    )\n",
    "    \n",
    "    select b.CODE,\n",
    "           BAL_DATE,\n",
    "           DELTA - DIFF_BALANCES MISMATCH\n",
    "    from balances b\n",
    "      left join daily_delta d on b.CODE = d.CODE and b.BAL_DATE = d.AT\n",
    "    where 1=1\n",
    "      and LAG_VALUE is not null\n",
    "      and (DIFF_BALANCES - DELTA) <> 0\n",
    "    order by at\n",
    "    \"\"\"\n",
    ").to_df()"
   ]
  },
  {
   "cell_type": "code",
   "execution_count": 8,
   "id": "71beaa8ed6e6dc1b",
   "metadata": {
    "ExecuteTime": {
     "end_time": "2024-11-09T22:29:46.169404Z",
     "start_time": "2024-11-09T22:29:46.163424Z"
    }
   },
   "outputs": [
    {
     "name": "stdout",
     "output_type": "stream",
     "text": [
      "Исходная доля расхождений: 0.1\n",
      "Доля расхождений полученная из скрипта: 0.1\n"
     ]
    }
   ],
   "source": [
    "print(f\"Исходная доля расхождений: {0.1}\")\n",
    "print(f\"Доля расхождений полученная из скрипта: {round(mismatches.shape[0] / benefit_balances.shape[0], 1)}\")"
   ]
  },
  {
   "cell_type": "markdown",
   "id": "f756d54b64260ec0",
   "metadata": {},
   "source": [
    "## Задание 2\n",
    "\n",
    "### Исходные данные\n",
    "Даны 3 таблицы со следующими полями:\n",
    "1. `client` – данные о клиентах\n",
    "    - `CODE` - идентификатор клиента\n",
    "    - `OPEN_DATE` – дата открытия счета\n",
    "    - `FIRST_WORKING_DATE` – дата первой операции по счету (`null`, если операций не было)\n",
    "### Задача\n",
    "Точке важно, чтобы клиент не только открывал у нас счет, но и начал работать по нему (мы называем это «рождением» клиента). Предложи расчет метрики, которая показывала бы ситуацию с рождением.\n",
    "\n",
    "### Решение\n",
    "Метрикой, отражающей ситуацию с «рождением» клиентов, является коэффициент активации (`Activation Rate`). Он показывает процент клиентов, которые после открытия счета начали по нему работать, то есть совершили первую операцию. Важно, так же рассматривать данную метрику в динамике. Для учета динамики необходимо рассчитывать эту метрику по выбранным периодам времени.\n",
    "\n",
    "```\n",
    "Коэффициент активации в периоде t (%) = [Количество клиентов, открывших счет в периоде t и совершивших первую транзакцию в периоде t / Общее количество клиентов, открывших счет в периоде t] × 100%\n",
    "```\n",
    "\n",
    "Коэффициент активации позволяет измерить эффективность ваших усилий по вовлечению клиентов. Если этот показатель низкий, это может свидетельствовать о том, что процесс адаптации сложен или запутан, и пользователи прекращают взаимодействие, не завершив ключевые этапы. Например, если коэффициент активации составляет 25%, это означает, что 75% клиентов, открывших счет в банке, не доходят до стадии активного использования, что указывает на значительные возможности для улучшения."
   ]
  },
  {
   "cell_type": "code",
   "execution_count": 37,
   "id": "5a1338f9b1fdfe18",
   "metadata": {
    "ExecuteTime": {
     "end_time": "2024-11-10T12:15:53.146211Z",
     "start_time": "2024-11-10T12:15:53.112280Z"
    }
   },
   "outputs": [
    {
     "data": {
      "text/html": [
       "<div>\n",
       "<style scoped>\n",
       "    .dataframe tbody tr th:only-of-type {\n",
       "        vertical-align: middle;\n",
       "    }\n",
       "\n",
       "    .dataframe tbody tr th {\n",
       "        vertical-align: top;\n",
       "    }\n",
       "\n",
       "    .dataframe thead th {\n",
       "        text-align: right;\n",
       "    }\n",
       "</style>\n",
       "<table border=\"1\" class=\"dataframe\">\n",
       "  <thead>\n",
       "    <tr style=\"text-align: right;\">\n",
       "      <th></th>\n",
       "      <th>period</th>\n",
       "      <th>total_opened_accounts</th>\n",
       "      <th>activated_in_same_period</th>\n",
       "      <th>activation_rate_percentage</th>\n",
       "    </tr>\n",
       "  </thead>\n",
       "  <tbody>\n",
       "    <tr>\n",
       "      <th>0</th>\n",
       "      <td>2024-01-01</td>\n",
       "      <td>27</td>\n",
       "      <td>1</td>\n",
       "      <td>3.70</td>\n",
       "    </tr>\n",
       "    <tr>\n",
       "      <th>1</th>\n",
       "      <td>2024-04-01</td>\n",
       "      <td>25</td>\n",
       "      <td>5</td>\n",
       "      <td>20.00</td>\n",
       "    </tr>\n",
       "    <tr>\n",
       "      <th>2</th>\n",
       "      <td>2024-07-01</td>\n",
       "      <td>34</td>\n",
       "      <td>15</td>\n",
       "      <td>44.12</td>\n",
       "    </tr>\n",
       "    <tr>\n",
       "      <th>3</th>\n",
       "      <td>2024-10-01</td>\n",
       "      <td>14</td>\n",
       "      <td>11</td>\n",
       "      <td>78.57</td>\n",
       "    </tr>\n",
       "  </tbody>\n",
       "</table>\n",
       "</div>"
      ],
      "text/plain": [
       "      period  total_opened_accounts  activated_in_same_period  \\\n",
       "0 2024-01-01                     27                         1   \n",
       "1 2024-04-01                     25                         5   \n",
       "2 2024-07-01                     34                        15   \n",
       "3 2024-10-01                     14                        11   \n",
       "\n",
       "   activation_rate_percentage  \n",
       "0                        3.70  \n",
       "1                       20.00  \n",
       "2                       44.12  \n",
       "3                       78.57  "
      ]
     },
     "execution_count": 37,
     "metadata": {},
     "output_type": "execute_result"
    }
   ],
   "source": [
    "# ЗАДАНИЯ №2\n",
    "# Для примера использовал quarter. Можно попробовать использовать day, week, month, year \n",
    "activation_rate_by_quarter = db.sql(\n",
    "    \"\"\"\n",
    "    SELECT\n",
    "        DATE_TRUNC('quarter', OPEN_DATE) AS period,\n",
    "        COUNT(*) AS total_opened_accounts,\n",
    "        COUNT(*) FILTER (\n",
    "            WHERE FIRST_WORKING_DATE IS NOT NULL\n",
    "              AND DATE_TRUNC('quarter', FIRST_WORKING_DATE) = DATE_TRUNC('quarter', OPEN_DATE)\n",
    "        ) AS activated_in_same_period,\n",
    "        ROUND(\n",
    "            (COUNT(*) FILTER (\n",
    "                WHERE FIRST_WORKING_DATE IS NOT NULL\n",
    "                  AND DATE_TRUNC('quarter', FIRST_WORKING_DATE) = DATE_TRUNC('quarter', OPEN_DATE)\n",
    "            ) * 100.0) / NULLIF(COUNT(*), 0),\n",
    "            2\n",
    "        ) AS activation_rate_percentage\n",
    "    FROM client\n",
    "    GROUP BY DATE_TRUNC('quarter', OPEN_DATE)\n",
    "    ORDER BY period\n",
    "    \"\"\"\n",
    ").to_df()\n",
    "\n",
    "activation_rate_by_quarter"
   ]
  },
  {
   "cell_type": "code",
   "execution_count": 46,
   "id": "3dc97f37fa5adf0b",
   "metadata": {
    "ExecuteTime": {
     "end_time": "2024-11-10T12:18:23.396613Z",
     "start_time": "2024-11-10T12:18:23.291093Z"
    }
   },
   "outputs": [
    {
     "data": {
      "text/plain": [
       "<Axes: xlabel='period'>"
      ]
     },
     "execution_count": 46,
     "metadata": {},
     "output_type": "execute_result"
    },
    {
     "data": {
      "image/png": "[encoded data removed]",
      "text/plain": [
       "<Figure size 640x480 with 1 Axes>"
      ]
     },
     "metadata": {},
     "output_type": "display_data"
    }
   ],
   "source": [
    "activation_rate_by_quarter.plot.bar(x='period', y='activation_rate_percentage')"
   ]
  },
  {
   "cell_type": "markdown",
   "id": "26f5a6c482f2f150",
   "metadata": {},
   "source": [
    "На основе данных таблицы `client` возможно также построить и другие метрики, приведу некоторые из них:\n",
    "#### 1. Время до активации клиента за период\n",
    "**Описание:** Эта метрика показывает среднее количество дней, которое проходит с даты открытия счёта (`OPEN_DATE`) до первой операции (`FIRST_WORKING_DATE`) за период."
   ]
  },
  {
   "cell_type": "code",
   "execution_count": 53,
   "id": "be917e5139e48796",
   "metadata": {
    "ExecuteTime": {
     "end_time": "2024-11-10T12:34:18.636298Z",
     "start_time": "2024-11-10T12:34:18.613975Z"
    }
   },
   "outputs": [
    {
     "data": {
      "text/html": [
       "<div>\n",
       "<style scoped>\n",
       "    .dataframe tbody tr th:only-of-type {\n",
       "        vertical-align: middle;\n",
       "    }\n",
       "\n",
       "    .dataframe tbody tr th {\n",
       "        vertical-align: top;\n",
       "    }\n",
       "\n",
       "    .dataframe thead th {\n",
       "        text-align: right;\n",
       "    }\n",
       "</style>\n",
       "<table border=\"1\" class=\"dataframe\">\n",
       "  <thead>\n",
       "    <tr style=\"text-align: right;\">\n",
       "      <th></th>\n",
       "      <th>period</th>\n",
       "      <th>median_days_to_activation</th>\n",
       "    </tr>\n",
       "  </thead>\n",
       "  <tbody>\n",
       "    <tr>\n",
       "      <th>0</th>\n",
       "      <td>2024-01-01</td>\n",
       "      <td>174.5</td>\n",
       "    </tr>\n",
       "    <tr>\n",
       "      <th>1</th>\n",
       "      <td>2024-02-01</td>\n",
       "      <td>136.5</td>\n",
       "    </tr>\n",
       "    <tr>\n",
       "      <th>2</th>\n",
       "      <td>2024-03-01</td>\n",
       "      <td>128.5</td>\n",
       "    </tr>\n",
       "    <tr>\n",
       "      <th>3</th>\n",
       "      <td>2024-04-01</td>\n",
       "      <td>94.0</td>\n",
       "    </tr>\n",
       "    <tr>\n",
       "      <th>4</th>\n",
       "      <td>2024-05-01</td>\n",
       "      <td>71.5</td>\n",
       "    </tr>\n",
       "  </tbody>\n",
       "</table>\n",
       "</div>"
      ],
      "text/plain": [
       "      period  median_days_to_activation\n",
       "0 2024-01-01                      174.5\n",
       "1 2024-02-01                      136.5\n",
       "2 2024-03-01                      128.5\n",
       "3 2024-04-01                       94.0\n",
       "4 2024-05-01                       71.5"
      ]
     },
     "execution_count": 53,
     "metadata": {},
     "output_type": "execute_result"
    }
   ],
   "source": [
    "monthly_median_days_to_activation = db.sql(\n",
    "    \"\"\"\n",
    "    SELECT\n",
    "        DATE_TRUNC('month', OPEN_DATE) AS period,\n",
    "        MEDIAN(DATEDIFF('day', OPEN_DATE, FIRST_WORKING_DATE)) AS median_days_to_activation\n",
    "    FROM client\n",
    "    WHERE FIRST_WORKING_DATE IS NOT NULL\n",
    "    GROUP BY DATE_TRUNC('month', OPEN_DATE)\n",
    "    ORDER BY period;\n",
    "    \"\"\"\n",
    ").to_df()\n",
    "\n",
    "monthly_median_days_to_activation.head(5)"
   ]
  },
  {
   "cell_type": "markdown",
   "id": "2347c149870818d1",
   "metadata": {},
   "source": [
    "#### 2. Процент клиентов без активности за период\n",
    "**Описание:** Доля клиентов, которые открыли счёт, но не провели ни одной операции за период (т.е., `FIRST_WORKING_DATE = NULL`)."
   ]
  },
  {
   "cell_type": "code",
   "execution_count": 57,
   "id": "e4393ee559b6ac14",
   "metadata": {
    "ExecuteTime": {
     "end_time": "2024-11-10T12:37:35.800515Z",
     "start_time": "2024-11-10T12:37:35.785595Z"
    }
   },
   "outputs": [
    {
     "data": {
      "text/html": [
       "<div>\n",
       "<style scoped>\n",
       "    .dataframe tbody tr th:only-of-type {\n",
       "        vertical-align: middle;\n",
       "    }\n",
       "\n",
       "    .dataframe tbody tr th {\n",
       "        vertical-align: top;\n",
       "    }\n",
       "\n",
       "    .dataframe thead th {\n",
       "        text-align: right;\n",
       "    }\n",
       "</style>\n",
       "<table border=\"1\" class=\"dataframe\">\n",
       "  <thead>\n",
       "    <tr style=\"text-align: right;\">\n",
       "      <th></th>\n",
       "      <th>period</th>\n",
       "      <th>inactive_client_rate</th>\n",
       "    </tr>\n",
       "  </thead>\n",
       "  <tbody>\n",
       "    <tr>\n",
       "      <th>0</th>\n",
       "      <td>2024-01-01</td>\n",
       "      <td>1</td>\n",
       "    </tr>\n",
       "    <tr>\n",
       "      <th>1</th>\n",
       "      <td>2024-06-01</td>\n",
       "      <td>1</td>\n",
       "    </tr>\n",
       "    <tr>\n",
       "      <th>2</th>\n",
       "      <td>2024-07-01</td>\n",
       "      <td>1</td>\n",
       "    </tr>\n",
       "    <tr>\n",
       "      <th>3</th>\n",
       "      <td>2024-08-01</td>\n",
       "      <td>1</td>\n",
       "    </tr>\n",
       "    <tr>\n",
       "      <th>4</th>\n",
       "      <td>2024-09-01</td>\n",
       "      <td>2</td>\n",
       "    </tr>\n",
       "  </tbody>\n",
       "</table>\n",
       "</div>"
      ],
      "text/plain": [
       "      period  inactive_client_rate\n",
       "0 2024-01-01                     1\n",
       "1 2024-06-01                     1\n",
       "2 2024-07-01                     1\n",
       "3 2024-08-01                     1\n",
       "4 2024-09-01                     2"
      ]
     },
     "execution_count": 57,
     "metadata": {},
     "output_type": "execute_result"
    }
   ],
   "source": [
    "monthly_inactive_client_rate = db.sql(\n",
    "    \"\"\"   \n",
    "    SELECT\n",
    "        DATE_TRUNC('month', OPEN_DATE) AS period,\n",
    "        COUNT() inactive_client_rate\n",
    "    FROM client\n",
    "    WHERE FIRST_WORKING_DATE IS NULL\n",
    "    GROUP BY DATE_TRUNC('month', OPEN_DATE)\n",
    "    ORDER BY period;\n",
    "    \"\"\"\n",
    ").to_df()\n",
    "\n",
    "monthly_inactive_client_rate.head(5)"
   ]
  },
  {
   "cell_type": "markdown",
   "id": "c6a34f05dd9aaa38",
   "metadata": {},
   "source": [
    "#### 3. Процент клиентов, активированных в первые X дней за период\n",
    "Описание: Процент клиентов, которые начали пользоваться счётом в течение первых X дней после его открытия. Например, можно рассчитать для 7, 14 и 30 дней."
   ]
  },
  {
   "cell_type": "code",
   "execution_count": 69,
   "id": "48bafc3040a50064",
   "metadata": {
    "ExecuteTime": {
     "end_time": "2024-11-10T13:03:12.840441Z",
     "start_time": "2024-11-10T13:03:12.812392Z"
    }
   },
   "outputs": [
    {
     "data": {
      "text/html": [
       "<div>\n",
       "<style scoped>\n",
       "    .dataframe tbody tr th:only-of-type {\n",
       "        vertical-align: middle;\n",
       "    }\n",
       "\n",
       "    .dataframe tbody tr th {\n",
       "        vertical-align: top;\n",
       "    }\n",
       "\n",
       "    .dataframe thead th {\n",
       "        text-align: right;\n",
       "    }\n",
       "</style>\n",
       "<table border=\"1\" class=\"dataframe\">\n",
       "  <thead>\n",
       "    <tr style=\"text-align: right;\">\n",
       "      <th></th>\n",
       "      <th>period</th>\n",
       "      <th>activation_within_7_days</th>\n",
       "      <th>activation_within_14_days</th>\n",
       "      <th>activation_within_30_days</th>\n",
       "    </tr>\n",
       "  </thead>\n",
       "  <tbody>\n",
       "    <tr>\n",
       "      <th>0</th>\n",
       "      <td>2024-01-01</td>\n",
       "      <td>0.00</td>\n",
       "      <td>0.00</td>\n",
       "      <td>3.85</td>\n",
       "    </tr>\n",
       "    <tr>\n",
       "      <th>1</th>\n",
       "      <td>2024-04-01</td>\n",
       "      <td>0.00</td>\n",
       "      <td>4.17</td>\n",
       "      <td>20.83</td>\n",
       "    </tr>\n",
       "    <tr>\n",
       "      <th>2</th>\n",
       "      <td>2024-07-01</td>\n",
       "      <td>13.33</td>\n",
       "      <td>20.00</td>\n",
       "      <td>40.00</td>\n",
       "    </tr>\n",
       "    <tr>\n",
       "      <th>3</th>\n",
       "      <td>2024-10-01</td>\n",
       "      <td>72.73</td>\n",
       "      <td>72.73</td>\n",
       "      <td>90.91</td>\n",
       "    </tr>\n",
       "  </tbody>\n",
       "</table>\n",
       "</div>"
      ],
      "text/plain": [
       "      period  activation_within_7_days  activation_within_14_days  \\\n",
       "0 2024-01-01                      0.00                       0.00   \n",
       "1 2024-04-01                      0.00                       4.17   \n",
       "2 2024-07-01                     13.33                      20.00   \n",
       "3 2024-10-01                     72.73                      72.73   \n",
       "\n",
       "   activation_within_30_days  \n",
       "0                       3.85  \n",
       "1                      20.83  \n",
       "2                      40.00  \n",
       "3                      90.91  "
      ]
     },
     "execution_count": 69,
     "metadata": {},
     "output_type": "execute_result"
    }
   ],
   "source": [
    "activation_within_x_days = db.sql(\n",
    "    \"\"\"   \n",
    "    SELECT\n",
    "        DATE_TRUNC('quarter', OPEN_DATE) AS period,\n",
    "        ROUND(COUNT(CASE WHEN DATEDIFF('day', OPEN_DATE, FIRST_WORKING_DATE) <= 7 THEN 1 END) * 100.0 / COUNT(*), 2) AS activation_within_7_days,\n",
    "        ROUND(COUNT(CASE WHEN DATEDIFF('day', OPEN_DATE, FIRST_WORKING_DATE) <= 14 THEN 1 END) * 100.0 / COUNT(*), 2) AS activation_within_14_days,\n",
    "        ROUND(COUNT(CASE WHEN DATEDIFF('day', OPEN_DATE, FIRST_WORKING_DATE) <= 30 THEN 1 END) * 100.0 / COUNT(*), 2) AS activation_within_30_days\n",
    "    FROM client\n",
    "    WHERE FIRST_WORKING_DATE IS NOT NULL\n",
    "    GROUP BY DATE_TRUNC('quarter', OPEN_DATE)\n",
    "    ORDER BY period;\n",
    "    \"\"\"\n",
    ").to_df()\n",
    "\n",
    "activation_within_x_days"
   ]
  },
  {
   "cell_type": "markdown",
   "id": "181df7817a89954d",
   "metadata": {},
   "source": [
    "#### 4. Среднее время от открытия счёта до первой операции среди активных клиентов за период\n",
    "**Описание**: Среднее количество дней от открытия счёта до первой операции, только для клиентов, которые активировались (первая операция была выполнена) за период."
   ]
  },
  {
   "cell_type": "code",
   "execution_count": 70,
   "id": "c01623dfa0cf04b0",
   "metadata": {
    "ExecuteTime": {
     "end_time": "2024-11-10T13:03:23.166840Z",
     "start_time": "2024-11-10T13:03:23.157550Z"
    }
   },
   "outputs": [
    {
     "data": {
      "text/html": [
       "<div>\n",
       "<style scoped>\n",
       "    .dataframe tbody tr th:only-of-type {\n",
       "        vertical-align: middle;\n",
       "    }\n",
       "\n",
       "    .dataframe tbody tr th {\n",
       "        vertical-align: top;\n",
       "    }\n",
       "\n",
       "    .dataframe thead th {\n",
       "        text-align: right;\n",
       "    }\n",
       "</style>\n",
       "<table border=\"1\" class=\"dataframe\">\n",
       "  <thead>\n",
       "    <tr style=\"text-align: right;\">\n",
       "      <th></th>\n",
       "      <th>period</th>\n",
       "      <th>median_days_to_activation_within_7_days</th>\n",
       "      <th>median_days_to_activation_within_14_days</th>\n",
       "      <th>median_days_to_activation_within_30_days</th>\n",
       "    </tr>\n",
       "  </thead>\n",
       "  <tbody>\n",
       "    <tr>\n",
       "      <th>0</th>\n",
       "      <td>2024-01-01</td>\n",
       "      <td>NaN</td>\n",
       "      <td>NaN</td>\n",
       "      <td>28.0</td>\n",
       "    </tr>\n",
       "    <tr>\n",
       "      <th>1</th>\n",
       "      <td>2024-04-01</td>\n",
       "      <td>NaN</td>\n",
       "      <td>8.0</td>\n",
       "      <td>21.0</td>\n",
       "    </tr>\n",
       "    <tr>\n",
       "      <th>2</th>\n",
       "      <td>2024-07-01</td>\n",
       "      <td>0.0</td>\n",
       "      <td>0.5</td>\n",
       "      <td>15.0</td>\n",
       "    </tr>\n",
       "    <tr>\n",
       "      <th>3</th>\n",
       "      <td>2024-10-01</td>\n",
       "      <td>0.5</td>\n",
       "      <td>0.5</td>\n",
       "      <td>1.0</td>\n",
       "    </tr>\n",
       "  </tbody>\n",
       "</table>\n",
       "</div>"
      ],
      "text/plain": [
       "      period  median_days_to_activation_within_7_days  \\\n",
       "0 2024-01-01                                      NaN   \n",
       "1 2024-04-01                                      NaN   \n",
       "2 2024-07-01                                      0.0   \n",
       "3 2024-10-01                                      0.5   \n",
       "\n",
       "   median_days_to_activation_within_14_days  \\\n",
       "0                                       NaN   \n",
       "1                                       8.0   \n",
       "2                                       0.5   \n",
       "3                                       0.5   \n",
       "\n",
       "   median_days_to_activation_within_30_days  \n",
       "0                                      28.0  \n",
       "1                                      21.0  \n",
       "2                                      15.0  \n",
       "3                                       1.0  "
      ]
     },
     "execution_count": 70,
     "metadata": {},
     "output_type": "execute_result"
    }
   ],
   "source": [
    "median_days_to_activation_within_x_days = db.sql(\n",
    "    \"\"\"\n",
    "    SELECT\n",
    "        DATE_TRUNC('quarter', OPEN_DATE) AS period,\n",
    "        MEDIAN(DATEDIFF('day', OPEN_DATE, FIRST_WORKING_DATE))\n",
    "            FILTER (WHERE DATEDIFF('day', OPEN_DATE, FIRST_WORKING_DATE) <= 7) AS median_days_to_activation_within_7_days,\n",
    "        MEDIAN(DATEDIFF('day', OPEN_DATE, FIRST_WORKING_DATE))\n",
    "            FILTER (WHERE DATEDIFF('day', OPEN_DATE, FIRST_WORKING_DATE) <= 14) AS median_days_to_activation_within_14_days,\n",
    "        MEDIAN(DATEDIFF('day', OPEN_DATE, FIRST_WORKING_DATE))\n",
    "            FILTER (WHERE DATEDIFF('day', OPEN_DATE, FIRST_WORKING_DATE) <= 30) AS median_days_to_activation_within_30_days\n",
    "    FROM client\n",
    "    WHERE FIRST_WORKING_DATE IS NOT NULL\n",
    "    GROUP BY DATE_TRUNC('quarter', OPEN_DATE)\n",
    "    ORDER BY period;\n",
    "    \"\"\"\n",
    ").to_df()\n",
    "\n",
    "median_days_to_activation_within_x_days"
   ]
  },
  {
   "cell_type": "markdown",
   "id": "9ee25704d95b6368",
   "metadata": {},
   "source": [
    "#### 5. Распределение времени активации (сегментация по времени) за период\n",
    "**Описание**: Сегментация клиентов по времени активации: сколько клиентов активировались в течение 7 дней, 14 дней, 30 дней и более."
   ]
  },
  {
   "cell_type": "code",
   "execution_count": 72,
   "id": "bbd2840205dac202",
   "metadata": {
    "ExecuteTime": {
     "end_time": "2024-11-10T13:06:25.234517Z",
     "start_time": "2024-11-10T13:06:25.223429Z"
    }
   },
   "outputs": [
    {
     "data": {
      "text/html": [
       "<div>\n",
       "<style scoped>\n",
       "    .dataframe tbody tr th:only-of-type {\n",
       "        vertical-align: middle;\n",
       "    }\n",
       "\n",
       "    .dataframe tbody tr th {\n",
       "        vertical-align: top;\n",
       "    }\n",
       "\n",
       "    .dataframe thead th {\n",
       "        text-align: right;\n",
       "    }\n",
       "</style>\n",
       "<table border=\"1\" class=\"dataframe\">\n",
       "  <thead>\n",
       "    <tr style=\"text-align: right;\">\n",
       "      <th></th>\n",
       "      <th>period</th>\n",
       "      <th>activated_within_7_days</th>\n",
       "      <th>activated_within_14_days</th>\n",
       "      <th>activated_within_30_days</th>\n",
       "      <th>activated_after_30_days</th>\n",
       "    </tr>\n",
       "  </thead>\n",
       "  <tbody>\n",
       "    <tr>\n",
       "      <th>0</th>\n",
       "      <td>2024-01-01</td>\n",
       "      <td>0</td>\n",
       "      <td>0</td>\n",
       "      <td>1</td>\n",
       "      <td>25</td>\n",
       "    </tr>\n",
       "    <tr>\n",
       "      <th>1</th>\n",
       "      <td>2024-04-01</td>\n",
       "      <td>0</td>\n",
       "      <td>1</td>\n",
       "      <td>4</td>\n",
       "      <td>19</td>\n",
       "    </tr>\n",
       "    <tr>\n",
       "      <th>2</th>\n",
       "      <td>2024-07-01</td>\n",
       "      <td>4</td>\n",
       "      <td>2</td>\n",
       "      <td>6</td>\n",
       "      <td>18</td>\n",
       "    </tr>\n",
       "    <tr>\n",
       "      <th>3</th>\n",
       "      <td>2024-10-01</td>\n",
       "      <td>8</td>\n",
       "      <td>0</td>\n",
       "      <td>2</td>\n",
       "      <td>1</td>\n",
       "    </tr>\n",
       "  </tbody>\n",
       "</table>\n",
       "</div>"
      ],
      "text/plain": [
       "      period  activated_within_7_days  activated_within_14_days  \\\n",
       "0 2024-01-01                        0                         0   \n",
       "1 2024-04-01                        0                         1   \n",
       "2 2024-07-01                        4                         2   \n",
       "3 2024-10-01                        8                         0   \n",
       "\n",
       "   activated_within_30_days  activated_after_30_days  \n",
       "0                         1                       25  \n",
       "1                         4                       19  \n",
       "2                         6                       18  \n",
       "3                         2                        1  "
      ]
     },
     "execution_count": 72,
     "metadata": {},
     "output_type": "execute_result"
    }
   ],
   "source": [
    "db.sql(\n",
    "    \"\"\"\n",
    "SELECT \n",
    "    DATE_TRUNC('quarter', OPEN_DATE) AS period,\n",
    "    COUNT(CASE WHEN DATEDIFF('day', OPEN_DATE, FIRST_WORKING_DATE) <= 7 THEN 1 END) AS activated_within_7_days,\n",
    "    COUNT(CASE WHEN DATEDIFF('day', OPEN_DATE, FIRST_WORKING_DATE) > 7 AND DATEDIFF('day', OPEN_DATE, FIRST_WORKING_DATE) <= 14 THEN 1 END) AS activated_within_14_days,\n",
    "    COUNT(CASE WHEN DATEDIFF('day', OPEN_DATE, FIRST_WORKING_DATE) > 14 AND DATEDIFF('day', OPEN_DATE, FIRST_WORKING_DATE) <= 30 THEN 1 END) AS activated_within_30_days,\n",
    "    COUNT(CASE WHEN DATEDIFF('day', OPEN_DATE, FIRST_WORKING_DATE) > 30 THEN 1 END) AS activated_after_30_days\n",
    "FROM client\n",
    "WHERE FIRST_WORKING_DATE IS NOT NULL\n",
    "GROUP BY DATE_TRUNC('quarter', OPEN_DATE)\n",
    "ORDER BY period;\n",
    "    \"\"\"\n",
    ").to_df()"
   ]
  },
  {
   "cell_type": "markdown",
   "id": "e956439a8b1e436e",
   "metadata": {},
   "source": [
    "## Задание 3\n",
    "\n",
    "### Исходные данные\n",
    "\n",
    "- Стоимость привлечения клиента (`CAC`) 100 руб.\n",
    "- Доходность на платящего в месяц (`ARPPU`) 150 руб. \n",
    "- Каждый месяц мы теряем 50% базы (`churn rate`)\n",
    "\n",
    "### Задача\n",
    "- Вопрос 1: посчитать доход с 1 клиента\n",
    "- Вопрос 2: улучшение какого из трех исходных показателей на 10% принесет больший эффект на доходность? "
   ]
  },
  {
   "cell_type": "markdown",
   "id": "7b3220eb040cb9a4",
   "metadata": {},
   "source": [
    "\n",
    "----\n",
    "\n",
    "#### Вопрос 1: Доход с одного клиента\n",
    "\n",
    "Для расчета дохода с одного клиента сначала определим, как долго он будет приносить доход, учитывая месячную потерю 50% базы (`churn rate`). Поскольку клиентская база уменьшается на 50% каждый месяц, каждый клиент будет приносить доход по экспоненциальному убыванию.\n",
    "\n",
    "1. **Средний срок жизни клиента (`ACL`)**\n",
    "- Считаем, что вероятность ухода клиента составляет 50% каждый месяц.\n",
    "- Средняя продолжительность \"жизни\" клиента (в месяцах) ACL = `1 / churn_rate = 1 / 0.5 = 2 месяца`.\n",
    "\n",
    "2. **Доход с одного клиента (`LTV`)**:\n",
    "- Доходность на одного платящего клиента в месяц ARPPU = `150 руб/мес`.\n",
    "- Общий доход с одного клиента = `ARPPU * ACL`:\n",
    "`Доход с одного клиента LTV = 150 руб/мес * 2 мес = 300 руб.`\n",
    "\n",
    "**Ответ**: Доход с одного клиента составляет **300 руб.**\n",
    "\n",
    "----\n",
    "\n",
    "#### Вопрос 2: Какое улучшение на 10% из трех показателей принесет больший эффект на доходность?\n",
    "\n",
    "#### Давайте рассмотрим каждый из показателей:\n",
    "\n",
    "Понятие \"улучшение\" для трех параметров разное:\n",
    "- Для `CAC` - это уменьшение;\n",
    "- Для `ARPPU` - это увеличение;\n",
    "- Для `Churn Rate` - это уменьшение;\n",
    "\n",
    "1. **Уменьшение CAC на 10%**\n",
    "- Текущий CAC = 100 руб.\n",
    "- При уменьшении на 10%, новый CAC = 100 * (1 - 0.1) = 90 руб.\n",
    "- Эффект: снижение стоимости привлечения клиента до 90 руб., но доход с клиента остаётся прежним (300 руб.).\n",
    "- **Преимущество**: прибыль с клиента увеличивается до -> 300 руб. - 90 руб. = 210 руб. вместо 300 руб. - 100 руб. = 200 руб., что добавляет 10 руб. к прибыли с клиента.\n",
    "\n",
    "2. **Увеличение ARPPU на 10%**\n",
    "- Текущий ARPPU = 150 руб.\n",
    "- При увеличении на 10%, новый ARPPU = 150 * (1 + 0.1) = 165 руб.\n",
    "- Эффект: доход с клиента увеличивается до 165 руб./мес. * 2 мес. = 330 руб.\n",
    "- **Преимущество**: общий доход с клиента вырастет до 330 руб., добавляя 30 руб. к доходности с клиента.\n",
    "\n",
    "3. **Снижение churn rate на 10%**\n",
    "- Текущий churn rate = 50% → средняя \"жизнь\" клиента 2 месяца.\n",
    "- При снижении на 10%, новый churn rate = 50% * (1 - 0.1) = 45%.\n",
    "- Новый средний срок жизни клиента = 1 / 0.45 = 2.22 месяца.\n",
    "- Эффект: доход с клиента увеличивается до 150 * 2.22 = 333 руб.\n",
    "- **Преимущество**: общий доход с клиента увеличивается до 333 руб., добавляя 33 руб. к доходности.\n",
    "\n",
    "**Ответ**: Снижение churn rate на 10% принесет наибольший эффект на доходность** с одного клиента, так как оно увеличивает общий доход с клиента до **333 руб.**\n",
    "\n"
   ]
  },
  {
   "cell_type": "code",
   "execution_count": null,
   "id": "9d1832f0a8b26e8a",
   "metadata": {},
   "outputs": [],
   "source": []
  },
  {
   "cell_type": "code",
   "execution_count": null,
   "id": "4e76f32e2c9ca1ab",
   "metadata": {},
   "outputs": [],
   "source": []
  }
 ],
 "metadata": {
  "kernelspec": {
   "display_name": "Python 3 (ipykernel)",
   "language": "python",
   "name": "python3"
  },
  "language_info": {
   "codemirror_mode": {
    "name": "ipython",
    "version": 3
   },
   "file_extension": ".py",
   "mimetype": "text/x-python",
   "name": "python",
   "nbconvert_exporter": "python",
   "pygments_lexer": "ipython3",
   "version": "3.10.13"
  }
 },
 "nbformat": 4,
 "nbformat_minor": 5
}
